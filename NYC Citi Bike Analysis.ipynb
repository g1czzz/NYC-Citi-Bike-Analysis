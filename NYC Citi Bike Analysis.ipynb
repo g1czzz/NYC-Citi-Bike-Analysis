{
 "cells": [
  {
   "cell_type": "code",
   "execution_count": 1,
   "id": "69aa084a",
   "metadata": {},
   "outputs": [
    {
     "name": "stderr",
     "output_type": "stream",
     "text": [
      "/var/folders/d8/5hz75wsx04v_p4mj2t9zn3z40000gn/T/ipykernel_18645/2119448367.py:6: DtypeWarning: Columns (5,7) have mixed types. Specify dtype option on import or set low_memory=False.\n",
      "  df = pd.read_csv('202307-citibike-tripdata.csv')\n"
     ]
    },
    {
     "data": {
      "image/png": "[encoded data removed]",
      "text/plain": [
       "<Figure size 432x288 with 1 Axes>"
      ]
     },
     "metadata": {
      "needs_background": "light"
     },
     "output_type": "display_data"
    }
   ],
   "source": [
    "import pandas as pd\n",
    "import matplotlib.pyplot as plt\n",
    "import numpy as np\n",
    "\n",
    "# Load the dataset\n",
    "df = pd.read_csv('202307-citibike-tripdata.csv')\n",
    "\n",
    "# Convert start and end times to datetime\n",
    "df['started_at'] = pd.to_datetime(df['started_at'])\n",
    "df['ended_at'] = pd.to_datetime(df['ended_at'])\n",
    "\n",
    "# Calculate duration in minutes\n",
    "df['duration_min'] = (df['ended_at'] - df['started_at']).dt.total_seconds() / 60\n",
    "\n",
    "# Filter out rides longer than 3 hours\n",
    "df = df[df['duration_min'] <= 180]\n",
    "\n",
    "# Plot histogram of ride durations\n",
    "plt.hist(df['duration_min'], bins=range(0, 181, 5))  # Bins of 5 minutes up to 3 hours\n",
    "plt.title('Histogram of Ride Durations')\n",
    "plt.xlabel('Duration (minutes)')\n",
    "plt.ylabel('Number of Rides')\n",
    "plt.show()\n"
   ]
  },
  {
   "cell_type": "code",
   "execution_count": 2,
   "id": "3a118790",
   "metadata": {},
   "outputs": [
    {
     "name": "stdout",
     "output_type": "stream",
     "text": [
      "Average ride duration: 13.643497728978591 minutes\n",
      "Variance of ride duration: 213.32198235317122 minutes\n",
      "Probability that a ride is longer than 20 minutes: 19.749299605740354%\n"
     ]
    }
   ],
   "source": [
    "# Average ride duration\n",
    "average_duration = df['duration_min'].mean()\n",
    "\n",
    "# Empirical variance of ride duration\n",
    "variance_duration = df['duration_min'].var()\n",
    "\n",
    "# Probability that a ride duration is greater than 20 minutes\n",
    "prob_over_20 = (df['duration_min'] > 20).mean()\n",
    "\n",
    "print(f\"Average ride duration: {average_duration} minutes\")\n",
    "print(f\"Variance of ride duration: {variance_duration} minutes\")\n",
    "print(f\"Probability that a ride is longer than 20 minutes: {prob_over_20 * 100}%\")\n"
   ]
  },
  {
   "cell_type": "code",
   "execution_count": 3,
   "id": "0977c34a",
   "metadata": {},
   "outputs": [
    {
     "name": "stdout",
     "output_type": "stream",
     "text": [
      "Probability that a ride is longer than 20 minutes for CitiBike members: 15.541403239828593%\n"
     ]
    }
   ],
   "source": [
    "# Filter for CitiBike members\n",
    "df_members = df[df['member_casual'] == 'member']\n",
    "\n",
    "# Probability for members\n",
    "prob_over_20_members = (df_members['duration_min'] > 20).mean()\n",
    "\n",
    "print(f\"Probability that a ride is longer than 20 minutes for CitiBike members: {prob_over_20_members * 100}%\")\n",
    "\n"
   ]
  },
  {
   "cell_type": "code",
   "execution_count": 4,
   "id": "58c62672",
   "metadata": {},
   "outputs": [
    {
     "name": "stdout",
     "output_type": "stream",
     "text": [
      "Probability that a ride longer than 25 minutes belongs to a CitiBike member: 57.86824806577074%\n"
     ]
    }
   ],
   "source": [
    "# Probability of being a member given the ride is more than 25min\n",
    "prob_member_given_over_25 = df[df['duration_min'] > 25]['member_casual'].eq('member').mean()\n",
    "\n",
    "print(f\"Probability that a ride longer than 25 minutes belongs to a CitiBike member: {prob_member_given_over_25 * 100}%\")\n",
    "\n"
   ]
  },
  {
   "cell_type": "code",
   "execution_count": 5,
   "id": "086c801c",
   "metadata": {},
   "outputs": [
    {
     "name": "stdout",
     "output_type": "stream",
     "text": [
      "Expected ride duration for an electric bike: 12.275494038421913 minutes\n",
      "Expected ride duration for a classic bike: 13.725188988329357 minutes\n"
     ]
    }
   ],
   "source": [
    "# Expected ride duration for electric bike\n",
    "expected_duration_ebike = df[df['rideable_type'] == 'electric_bike']['duration_min'].mean()\n",
    "\n",
    "# Expected ride duration for classic bike\n",
    "expected_duration_classic = df[df['rideable_type'] == 'classic_bike']['duration_min'].mean()\n",
    "\n",
    "print(f\"Expected ride duration for an electric bike: {expected_duration_ebike} minutes\")\n",
    "print(f\"Expected ride duration for a classic bike: {expected_duration_classic} minutes\")\n"
   ]
  },
  {
   "cell_type": "code",
   "execution_count": 6,
   "id": "2e4c326e",
   "metadata": {},
   "outputs": [
    {
     "name": "stdout",
     "output_type": "stream",
     "text": [
      "Probability that a ride less than 10 minutes uses an electric bike: 8.921412766026302%\n",
      "Probability that a ride less than 10 minutes uses a classic bike: 91.01720043850601%\n"
     ]
    }
   ],
   "source": [
    "# Filter for rides less than 10 minutes\n",
    "df_under_10 = df[df['duration_min'] < 10]\n",
    "\n",
    "# Probability that a ride uses an electric bike for rides less than 10min\n",
    "prob_ebike_under_10 = (df_under_10['rideable_type'] == 'electric_bike').mean()\n",
    "\n",
    "# Probability that a ride uses a classic bike for rides less than 10min\n",
    "prob_classic_under_10 = (df_under_10['rideable_type'] == 'classic_bike').mean()\n",
    "\n",
    "print(f\"Probability that a ride less than 10 minutes uses an electric bike: {prob_ebike_under_10 * 100}%\")\n",
    "print(f\"Probability that a ride less than 10 minutes uses a classic bike: {prob_classic_under_10 * 100}%\")\n",
    "\n",
    "# Comment on the results after examining the outputted probabilities.\n"
   ]
  },
  {
   "cell_type": "markdown",
   "id": "3088fa57",
   "metadata": {},
   "source": [
    "# Main Project"
   ]
  },
  {
   "cell_type": "code",
   "execution_count": 7,
   "id": "9a4b93be",
   "metadata": {},
   "outputs": [],
   "source": [
    "# Clean the data data that only focus on Weekdays\n",
    "\n",
    "df['weekday'] = df['started_at'].dt.dayofweek\n",
    "df = df[df['weekday'] < 5]"
   ]
  },
  {
   "cell_type": "code",
   "execution_count": 8,
   "id": "8caa2d4c",
   "metadata": {},
   "outputs": [
    {
     "data": {
      "text/plain": [
       "W 21 St & 6 Ave                      10085\n",
       "West St & Chambers St                 9084\n",
       "11 Ave & W 41 St                      8545\n",
       "University Pl & E 14 St               8394\n",
       "1 Ave & E 68 St                       8337\n",
       "                                     ...  \n",
       "Monmouth and 6th                         1\n",
       "6 St & Grand St                          1\n",
       "Hudson St & 4 St                         1\n",
       "Beverley Rd & E 49 St                    1\n",
       "Columbus Park - Clinton St & 9 St        1\n",
       "Name: end_station_name, Length: 1947, dtype: int64"
      ]
     },
     "execution_count": 8,
     "metadata": {},
     "output_type": "execute_result"
    }
   ],
   "source": [
    "# Get the most number counts of stations and select the top three\n",
    "df['end_station_name'].value_counts()"
   ]
  },
  {
   "cell_type": "markdown",
   "id": "06a53857",
   "metadata": {},
   "source": [
    "### According to the table, we will use W 21 St& 6 Ave, West St & Chambers St, 11 Ave & W 41St"
   ]
  },
  {
   "cell_type": "code",
   "execution_count": 61,
   "id": "336c3085",
   "metadata": {},
   "outputs": [],
   "source": [
    "station1 = 'W 21 St & 6 Ave'\n",
    "station2 = 'West St & Chambers St'\n",
    "station3 = '11 Ave & W 41 St'"
   ]
  },
  {
   "cell_type": "markdown",
   "id": "148218e6",
   "metadata": {},
   "source": [
    "### filter and split the dataset into two part, morning and evening. We assign morning to start from 6am to 12am, and  evening to start from 16pm to 22pm"
   ]
  },
  {
   "cell_type": "code",
   "execution_count": 10,
   "id": "e43c7eac",
   "metadata": {},
   "outputs": [],
   "source": [
    "df['started_at'] = pd.to_datetime(df['started_at'])\n",
    "df['ended_at'] = pd.to_datetime(df['ended_at'])\n",
    "\n",
    "# Create a filter for time\n",
    "morning_time= (df['started_at'].dt.hour >= 6) & (df['started_at'].dt.hour < 12)\n",
    "evening_time = (df['started_at'].dt.hour >= 16) & (df['started_at'].dt.hour < 22)\n",
    "\n",
    "# Filter Out required data\n",
    "df = df[morning_time | evening_time]\n",
    "\n",
    "df['start_time_interval'] = df['started_at'].dt.floor('10T')\n",
    "df['end_time_interval'] = df['ended_at'].dt.floor('10T')"
   ]
  },
  {
   "cell_type": "code",
   "execution_count": 11,
   "id": "28b46762",
   "metadata": {},
   "outputs": [
    {
     "name": "stderr",
     "output_type": "stream",
     "text": [
      "/var/folders/d8/5hz75wsx04v_p4mj2t9zn3z40000gn/T/ipykernel_18645/205126719.py:2: UserWarning: Boolean Series key will be reindexed to match DataFrame index.\n",
      "  morning_df = df[morning_time]\n",
      "/var/folders/d8/5hz75wsx04v_p4mj2t9zn3z40000gn/T/ipykernel_18645/205126719.py:3: UserWarning: Boolean Series key will be reindexed to match DataFrame index.\n",
      "  evening_df = df[evening_time]\n"
     ]
    }
   ],
   "source": [
    "#Split into morning and evening parts\n",
    "morning_df = df[morning_time]\n",
    "evening_df = df[evening_time]\n",
    "\n",
    "station1_morning = morning_df[(morning_df['start_station_name'] == station1) | (morning_df['end_station_name'] == station1)]\n",
    "station1_evening = evening_df[(evening_df['start_station_name'] == station1) | (evening_df['end_station_name'] == station1)]"
   ]
  },
  {
   "cell_type": "markdown",
   "id": "51e30fbd",
   "metadata": {},
   "source": [
    "### We set the time block to be 10 minutes, and count the value for different blocks and set the final_count as the number of frequency for differnt number of bicycle rentals"
   ]
  },
  {
   "cell_type": "code",
   "execution_count": 12,
   "id": "8dd61364",
   "metadata": {},
   "outputs": [],
   "source": [
    "# West 21 St & 6 Ave - Morning\n",
    "df_1_morning_depart = station1_morning[station1_morning['start_station_name'] == station1]['start_time_interval'].value_counts()\n",
    "df_1_morning_arrive = station1_morning[station1_morning['end_station_name'] == station1]['end_time_interval'].value_counts()\n",
    "\n",
    "station1_morning_total = pd.concat([df_1_morning_depart, df_1_morning_arrive], axis=1)\n",
    "station1_morning_total.fillna(0, inplace=True)\n",
    "station1_morning_total['final_count'] = station1_morning_total['end_time_interval'] - station1_morning_total['start_time_interval']\n",
    "station1_morning_total['final_count'] = station1_morning_total['final_count'].astype(int)\n",
    "\n",
    "# West 21 St & 6 Ave - Evening\n",
    "df_1_evening_depart = station1_evening[station1_evening['start_station_name'] == station1]['start_time_interval'].value_counts()\n",
    "df_1_evening_arrive = station1_evening[station1_evening['end_station_name'] == station1]['end_time_interval'].value_counts()\n",
    "\n",
    "station1_evening_total = pd.concat([df_1_evening_depart, df_1_evening_arrive], axis=1)\n",
    "station1_evening_total.fillna(0, inplace=True)\n",
    "station1_evening_total['final_count'] = station1_evening_total['end_time_interval'] - station1_evening_total['start_time_interval']\n",
    "station1_evening_total['final_count'] = station1_evening_total['final_count'].astype(int)"
   ]
  },
  {
   "cell_type": "code",
   "execution_count": 13,
   "id": "452f0dc1",
   "metadata": {
    "scrolled": true
   },
   "outputs": [
    {
     "data": {
      "text/html": [
       "<div>\n",
       "<style scoped>\n",
       "    .dataframe tbody tr th:only-of-type {\n",
       "        vertical-align: middle;\n",
       "    }\n",
       "\n",
       "    .dataframe tbody tr th {\n",
       "        vertical-align: top;\n",
       "    }\n",
       "\n",
       "    .dataframe thead th {\n",
       "        text-align: right;\n",
       "    }\n",
       "</style>\n",
       "<table border=\"1\" class=\"dataframe\">\n",
       "  <thead>\n",
       "    <tr style=\"text-align: right;\">\n",
       "      <th></th>\n",
       "      <th>start_time_interval</th>\n",
       "      <th>end_time_interval</th>\n",
       "      <th>final_count</th>\n",
       "    </tr>\n",
       "  </thead>\n",
       "  <tbody>\n",
       "    <tr>\n",
       "      <th>2023-07-03 06:20:00</th>\n",
       "      <td>0.0</td>\n",
       "      <td>1.0</td>\n",
       "      <td>1</td>\n",
       "    </tr>\n",
       "    <tr>\n",
       "      <th>2023-07-03 06:30:00</th>\n",
       "      <td>1.0</td>\n",
       "      <td>0.0</td>\n",
       "      <td>-1</td>\n",
       "    </tr>\n",
       "    <tr>\n",
       "      <th>2023-07-03 06:40:00</th>\n",
       "      <td>1.0</td>\n",
       "      <td>2.0</td>\n",
       "      <td>1</td>\n",
       "    </tr>\n",
       "    <tr>\n",
       "      <th>2023-07-03 06:50:00</th>\n",
       "      <td>0.0</td>\n",
       "      <td>2.0</td>\n",
       "      <td>2</td>\n",
       "    </tr>\n",
       "    <tr>\n",
       "      <th>2023-07-03 07:30:00</th>\n",
       "      <td>1.0</td>\n",
       "      <td>2.0</td>\n",
       "      <td>1</td>\n",
       "    </tr>\n",
       "    <tr>\n",
       "      <th>...</th>\n",
       "      <td>...</td>\n",
       "      <td>...</td>\n",
       "      <td>...</td>\n",
       "    </tr>\n",
       "    <tr>\n",
       "      <th>2023-07-31 11:20:00</th>\n",
       "      <td>5.0</td>\n",
       "      <td>4.0</td>\n",
       "      <td>-1</td>\n",
       "    </tr>\n",
       "    <tr>\n",
       "      <th>2023-07-31 11:30:00</th>\n",
       "      <td>6.0</td>\n",
       "      <td>6.0</td>\n",
       "      <td>0</td>\n",
       "    </tr>\n",
       "    <tr>\n",
       "      <th>2023-07-31 11:40:00</th>\n",
       "      <td>3.0</td>\n",
       "      <td>1.0</td>\n",
       "      <td>-2</td>\n",
       "    </tr>\n",
       "    <tr>\n",
       "      <th>2023-07-31 11:50:00</th>\n",
       "      <td>0.0</td>\n",
       "      <td>6.0</td>\n",
       "      <td>6</td>\n",
       "    </tr>\n",
       "    <tr>\n",
       "      <th>2023-07-31 12:00:00</th>\n",
       "      <td>0.0</td>\n",
       "      <td>6.0</td>\n",
       "      <td>6</td>\n",
       "    </tr>\n",
       "  </tbody>\n",
       "</table>\n",
       "<p>769 rows × 3 columns</p>\n",
       "</div>"
      ],
      "text/plain": [
       "                     start_time_interval  end_time_interval  final_count\n",
       "2023-07-03 06:20:00                  0.0                1.0            1\n",
       "2023-07-03 06:30:00                  1.0                0.0           -1\n",
       "2023-07-03 06:40:00                  1.0                2.0            1\n",
       "2023-07-03 06:50:00                  0.0                2.0            2\n",
       "2023-07-03 07:30:00                  1.0                2.0            1\n",
       "...                                  ...                ...          ...\n",
       "2023-07-31 11:20:00                  5.0                4.0           -1\n",
       "2023-07-31 11:30:00                  6.0                6.0            0\n",
       "2023-07-31 11:40:00                  3.0                1.0           -2\n",
       "2023-07-31 11:50:00                  0.0                6.0            6\n",
       "2023-07-31 12:00:00                  0.0                6.0            6\n",
       "\n",
       "[769 rows x 3 columns]"
      ]
     },
     "execution_count": 13,
     "metadata": {},
     "output_type": "execute_result"
    }
   ],
   "source": [
    "station1_morning_total"
   ]
  },
  {
   "cell_type": "code",
   "execution_count": 14,
   "id": "4084aa89",
   "metadata": {},
   "outputs": [
    {
     "data": {
      "text/html": [
       "<div>\n",
       "<style scoped>\n",
       "    .dataframe tbody tr th:only-of-type {\n",
       "        vertical-align: middle;\n",
       "    }\n",
       "\n",
       "    .dataframe tbody tr th {\n",
       "        vertical-align: top;\n",
       "    }\n",
       "\n",
       "    .dataframe thead th {\n",
       "        text-align: right;\n",
       "    }\n",
       "</style>\n",
       "<table border=\"1\" class=\"dataframe\">\n",
       "  <thead>\n",
       "    <tr style=\"text-align: right;\">\n",
       "      <th></th>\n",
       "      <th>start_time_interval</th>\n",
       "      <th>end_time_interval</th>\n",
       "      <th>final_count</th>\n",
       "    </tr>\n",
       "  </thead>\n",
       "  <tbody>\n",
       "    <tr>\n",
       "      <th>2023-07-03 16:00:00</th>\n",
       "      <td>7.0</td>\n",
       "      <td>3.0</td>\n",
       "      <td>-4</td>\n",
       "    </tr>\n",
       "    <tr>\n",
       "      <th>2023-07-03 16:10:00</th>\n",
       "      <td>9.0</td>\n",
       "      <td>5.0</td>\n",
       "      <td>-4</td>\n",
       "    </tr>\n",
       "    <tr>\n",
       "      <th>2023-07-03 16:20:00</th>\n",
       "      <td>12.0</td>\n",
       "      <td>1.0</td>\n",
       "      <td>-11</td>\n",
       "    </tr>\n",
       "    <tr>\n",
       "      <th>2023-07-03 16:30:00</th>\n",
       "      <td>3.0</td>\n",
       "      <td>3.0</td>\n",
       "      <td>0</td>\n",
       "    </tr>\n",
       "    <tr>\n",
       "      <th>2023-07-03 16:40:00</th>\n",
       "      <td>3.0</td>\n",
       "      <td>4.0</td>\n",
       "      <td>1</td>\n",
       "    </tr>\n",
       "    <tr>\n",
       "      <th>...</th>\n",
       "      <td>...</td>\n",
       "      <td>...</td>\n",
       "      <td>...</td>\n",
       "    </tr>\n",
       "    <tr>\n",
       "      <th>2023-07-31 21:30:00</th>\n",
       "      <td>1.0</td>\n",
       "      <td>3.0</td>\n",
       "      <td>2</td>\n",
       "    </tr>\n",
       "    <tr>\n",
       "      <th>2023-07-31 21:40:00</th>\n",
       "      <td>2.0</td>\n",
       "      <td>4.0</td>\n",
       "      <td>2</td>\n",
       "    </tr>\n",
       "    <tr>\n",
       "      <th>2023-07-31 22:00:00</th>\n",
       "      <td>0.0</td>\n",
       "      <td>1.0</td>\n",
       "      <td>1</td>\n",
       "    </tr>\n",
       "    <tr>\n",
       "      <th>2023-07-31 22:20:00</th>\n",
       "      <td>0.0</td>\n",
       "      <td>2.0</td>\n",
       "      <td>2</td>\n",
       "    </tr>\n",
       "    <tr>\n",
       "      <th>2023-07-31 22:50:00</th>\n",
       "      <td>0.0</td>\n",
       "      <td>2.0</td>\n",
       "      <td>2</td>\n",
       "    </tr>\n",
       "  </tbody>\n",
       "</table>\n",
       "<p>761 rows × 3 columns</p>\n",
       "</div>"
      ],
      "text/plain": [
       "                     start_time_interval  end_time_interval  final_count\n",
       "2023-07-03 16:00:00                  7.0                3.0           -4\n",
       "2023-07-03 16:10:00                  9.0                5.0           -4\n",
       "2023-07-03 16:20:00                 12.0                1.0          -11\n",
       "2023-07-03 16:30:00                  3.0                3.0            0\n",
       "2023-07-03 16:40:00                  3.0                4.0            1\n",
       "...                                  ...                ...          ...\n",
       "2023-07-31 21:30:00                  1.0                3.0            2\n",
       "2023-07-31 21:40:00                  2.0                4.0            2\n",
       "2023-07-31 22:00:00                  0.0                1.0            1\n",
       "2023-07-31 22:20:00                  0.0                2.0            2\n",
       "2023-07-31 22:50:00                  0.0                2.0            2\n",
       "\n",
       "[761 rows x 3 columns]"
      ]
     },
     "execution_count": 14,
     "metadata": {},
     "output_type": "execute_result"
    }
   ],
   "source": [
    "station1_evening_total"
   ]
  },
  {
   "cell_type": "code",
   "execution_count": 15,
   "id": "02ed4e0b",
   "metadata": {},
   "outputs": [],
   "source": [
    "from collections import Counter\n",
    "\n",
    "station1_morning_total = dict(sorted(Counter(station1_morning_total['final_count']).items()))\n",
    "station1_evening_total = dict(sorted(Counter(station1_evening_total['final_count']).items()))"
   ]
  },
  {
   "cell_type": "code",
   "execution_count": 16,
   "id": "f3a0c4b1",
   "metadata": {},
   "outputs": [
    {
     "data": {
      "text/plain": [
       "{-11: 1,\n",
       " -7: 2,\n",
       " -6: 4,\n",
       " -5: 9,\n",
       " -4: 14,\n",
       " -3: 30,\n",
       " -2: 64,\n",
       " -1: 89,\n",
       " 0: 105,\n",
       " 1: 136,\n",
       " 2: 104,\n",
       " 3: 67,\n",
       " 4: 53,\n",
       " 5: 32,\n",
       " 6: 29,\n",
       " 7: 16,\n",
       " 8: 4,\n",
       " 9: 6,\n",
       " 10: 2,\n",
       " 11: 2}"
      ]
     },
     "execution_count": 16,
     "metadata": {},
     "output_type": "execute_result"
    }
   ],
   "source": [
    "station1_morning_total"
   ]
  },
  {
   "cell_type": "code",
   "execution_count": 17,
   "id": "9e3e1450",
   "metadata": {},
   "outputs": [
    {
     "data": {
      "text/plain": [
       "{-15: 2,\n",
       " -14: 2,\n",
       " -12: 6,\n",
       " -11: 3,\n",
       " -10: 6,\n",
       " -9: 5,\n",
       " -8: 15,\n",
       " -7: 12,\n",
       " -6: 29,\n",
       " -5: 38,\n",
       " -4: 45,\n",
       " -3: 59,\n",
       " -2: 91,\n",
       " -1: 85,\n",
       " 0: 103,\n",
       " 1: 87,\n",
       " 2: 77,\n",
       " 3: 31,\n",
       " 4: 32,\n",
       " 5: 13,\n",
       " 6: 6,\n",
       " 7: 6,\n",
       " 8: 5,\n",
       " 9: 2,\n",
       " 10: 1}"
      ]
     },
     "execution_count": 17,
     "metadata": {},
     "output_type": "execute_result"
    }
   ],
   "source": [
    "station1_evening_total"
   ]
  },
  {
   "cell_type": "markdown",
   "id": "2fb55685",
   "metadata": {},
   "source": [
    "### The Bike Count graph for station1 "
   ]
  },
  {
   "cell_type": "code",
   "execution_count": 18,
   "id": "dca34089",
   "metadata": {},
   "outputs": [
    {
     "data": {
      "image/png": "[encoded data removed]",
      "text/plain": [
       "<Figure size 432x288 with 1 Axes>"
      ]
     },
     "metadata": {
      "needs_background": "light"
     },
     "output_type": "display_data"
    }
   ],
   "source": [
    "import matplotlib.pyplot as plt\n",
    "\n",
    "# Assuming station_w21St6ave_dict_morning is already defined with your data\n",
    "plt.bar(station1_morning_total.keys(),station1_morning_total.values())\n",
    "plt.title('Bike Counts for W 21 St & 6 Ave - Morning')\n",
    "plt.xlabel('Time Intervals')\n",
    "plt.ylabel('Final Count')\n",
    "plt.show()\n"
   ]
  },
  {
   "cell_type": "code",
   "execution_count": 19,
   "id": "3d4360c0",
   "metadata": {},
   "outputs": [
    {
     "data": {
      "image/png": "[encoded data removed]",
      "text/plain": [
       "<Figure size 432x288 with 1 Axes>"
      ]
     },
     "metadata": {
      "needs_background": "light"
     },
     "output_type": "display_data"
    }
   ],
   "source": [
    "import matplotlib.pyplot as plt\n",
    "\n",
    "# Assuming station_w21St6ave_dict_morning is already defined with your data\n",
    "plt.bar(station1_evening_total.keys(),station1_evening_total.values())\n",
    "plt.title('Bike Counts for W 21 St & 6 Ave - Evening')\n",
    "plt.xlabel('Time Intervals')\n",
    "plt.ylabel('Final Count')\n",
    "plt.show()\n",
    "\n"
   ]
  },
  {
   "cell_type": "markdown",
   "id": "f935e1dc",
   "metadata": {},
   "source": [
    "### We found out that the maximum Capacity for  W 21 St & 6 Ave is 52, so we set the dock to 52, and create the transition matrix based on it. "
   ]
  },
  {
   "cell_type": "code",
   "execution_count": 20,
   "id": "1db24e22",
   "metadata": {},
   "outputs": [],
   "source": [
    "import numpy as np\n",
    "\n",
    "# Assuming station1_dock is the number of docks at the station\n",
    "# Assuming station1_morning_total and station1_evening_total are dictionaries \n",
    "# with bike changes and their frequencies for morning and evening\n",
    "\n",
    "station1_dock = 52\n",
    "\n",
    "# Create transition matrix for morning\n",
    "morning_changes = list(station1_morning_total.keys())\n",
    "morning_frequency = list(station1_morning_total.values())\n",
    "w21St6ave_morning = np.zeros((station1_dock + 1, station1_dock + 1))\n",
    "\n",
    "for i in range(w21St6ave_morning.shape[0]):\n",
    "    for j in range(w21St6ave_morning.shape[1]):\n",
    "        if (j - i) in morning_changes:\n",
    "            w21St6ave_morning[i][j] = station1_morning_total[j - i]\n",
    "    row_sum = sum(w21St6ave_morning[i])\n",
    "    if row_sum != 0:\n",
    "        w21St6ave_morning[i] /= row_sum\n",
    "\n",
    "# Create transition matrix for evening\n",
    "evening_changes = list(station1_evening_total.keys())\n",
    "evening_frequency = list(station1_evening_total.values())\n",
    "w21St6ave_evening = np.zeros((station1_dock + 1, station1_dock + 1))\n",
    "\n",
    "for i in range(w21St6ave_evening.shape[0]):\n",
    "    for j in range(w21St6ave_evening.shape[1]):\n",
    "        if (j - i) in evening_changes:\n",
    "            w21St6ave_evening[i][j] = station1_evening_total[j - i]\n",
    "    row_sum = sum(w21St6ave_evening[i])\n",
    "    if row_sum != 0:\n",
    "        w21St6ave_evening[i] /= row_sum\n",
    "\n"
   ]
  },
  {
   "cell_type": "code",
   "execution_count": 21,
   "id": "d7170590",
   "metadata": {},
   "outputs": [
    {
     "data": {
      "text/plain": [
       "(53, 53)"
      ]
     },
     "execution_count": 21,
     "metadata": {},
     "output_type": "execute_result"
    }
   ],
   "source": [
    "w21St6ave_morning.shape\n",
    "w21St6ave_evening.shape"
   ]
  },
  {
   "cell_type": "code",
   "execution_count": 22,
   "id": "52b98ef5",
   "metadata": {},
   "outputs": [
    {
     "data": {
      "text/plain": [
       "True"
      ]
     },
     "execution_count": 22,
     "metadata": {},
     "output_type": "execute_result"
    }
   ],
   "source": [
    "# Verify if the row sums equal to one for each matrix\n",
    "row_sums = np.sum(w21St6ave_morning, axis=1)\n",
    "np.allclose(row_sums, 1)\n",
    "\n",
    "row_sums = np.sum(w21St6ave_evening, axis=1)\n",
    "np.allclose(row_sums, 1)\n"
   ]
  },
  {
   "cell_type": "markdown",
   "id": "72f49f6d",
   "metadata": {},
   "source": [
    "### Transpose the transition matrix to find left eigenvectors in order to get the stationary distribution"
   ]
  },
  {
   "cell_type": "code",
   "execution_count": 23,
   "id": "7b6e32b2",
   "metadata": {},
   "outputs": [],
   "source": [
    "import numpy as np\n",
    "\n",
    "# Transpose the transition matrix to find left eigenvectors\n",
    "transposed_matrix = np.transpose(w21St6ave_morning)\n",
    "\n",
    "# Calculate the eigenvalues and eigenvectors\n",
    "eigenvalues, eigenvectors = np.linalg.eig(transposed_matrix)\n",
    "\n",
    "# Find the index corresponding to the eigenvalue 1\n",
    "index = np.where(np.isclose(eigenvalues, 1))[0][0]\n",
    "\n",
    "# Extract the corresponding eigenvector\n",
    "stationary_morning_distribution = np.real(eigenvectors[:, index])\n",
    "\n",
    "# Normalize the stationary distribution to sum to 1\n",
    "stationary_morning_distribution /= np.sum(stationary_morning_distribution)\n"
   ]
  },
  {
   "cell_type": "code",
   "execution_count": 24,
   "id": "fbbf3adc",
   "metadata": {},
   "outputs": [],
   "source": [
    "import numpy as np\n",
    "\n",
    "# Transpose the transition matrix to find left eigenvectors\n",
    "transposed_matrix = np.transpose(w21St6ave_evening)\n",
    "\n",
    "# Calculate the eigenvalues and eigenvectors\n",
    "eigenvalues, eigenvectors = np.linalg.eig(transposed_matrix)\n",
    "\n",
    "# Find the index corresponding to the eigenvalue 1\n",
    "index = np.where(np.isclose(eigenvalues, 1))[0][0]\n",
    "\n",
    "# Extract the corresponding eigenvector\n",
    "stationary_evening_distribution = np.real(eigenvectors[:, index])\n",
    "\n",
    "# Normalize the stationary distribution to sum to 1\n",
    "stationary_evening_distribution /= np.sum(stationary_evening_distribution)\n",
    "\n"
   ]
  },
  {
   "cell_type": "markdown",
   "id": "1b3d344b",
   "metadata": {},
   "source": [
    "### Plot the stationary distribution"
   ]
  },
  {
   "cell_type": "code",
   "execution_count": 25,
   "id": "3e25e7ea",
   "metadata": {},
   "outputs": [
    {
     "name": "stdout",
     "output_type": "stream",
     "text": [
      "Sum of distribution: 1.0\n"
     ]
    },
    {
     "data": {
      "image/png": "[encoded data removed]",
      "text/plain": [
       "<Figure size 432x288 with 1 Axes>"
      ]
     },
     "metadata": {
      "needs_background": "light"
     },
     "output_type": "display_data"
    }
   ],
   "source": [
    "import numpy as np\n",
    "import matplotlib.pyplot as plt\n",
    "\n",
    "# # Check for negative values\n",
    "# if np.any(stationary_morning_distribution < 0):\n",
    "#     print(\"Warning: Stationary distribution contains negative values.\")\n",
    "\n",
    "# Normalize to ensure all values sum to 1\n",
    "stationary_morning_distribution /= np.sum(stationary_morning_distribution)\n",
    "\n",
    "# Check the sum of the distribution to confirm it's 1\n",
    "print(\"Sum of distribution:\", np.sum(stationary_morning_distribution))\n",
    "\n",
    "# Plot the distribution\n",
    "num = range(len(stationary_morning_distribution))\n",
    "plt.bar(num, stationary_morning_distribution, label='Frequency')\n",
    "plt.title('Distribution of W 21 St & 6 Ave in Morning')\n",
    "plt.legend()\n",
    "plt.show()\n"
   ]
  },
  {
   "cell_type": "code",
   "execution_count": 26,
   "id": "52df40f9",
   "metadata": {
    "scrolled": true
   },
   "outputs": [
    {
     "name": "stdout",
     "output_type": "stream",
     "text": [
      "Sum of distribution: 1.0\n"
     ]
    },
    {
     "data": {
      "image/png": "[encoded data removed]",
      "text/plain": [
       "<Figure size 432x288 with 1 Axes>"
      ]
     },
     "metadata": {
      "needs_background": "light"
     },
     "output_type": "display_data"
    }
   ],
   "source": [
    "import numpy as np\n",
    "import matplotlib.pyplot as plt\n",
    "\n",
    "# # Check for negative values\n",
    "# if np.any(stationary_morning_distribution < 0):\n",
    "#     print(\"Warning: Stationary distribution contains negative values.\")\n",
    "\n",
    "# Normalize to ensure all values sum to 1\n",
    "stationary_evening_distribution /= np.sum(stationary_evening_distribution)\n",
    "\n",
    "# Check the sum of the distribution to confirm it's 1\n",
    "print(\"Sum of distribution:\", np.sum(stationary_evening_distribution))\n",
    "\n",
    "# Plot the distribution\n",
    "num = range(len(stationary_evening_distribution))\n",
    "plt.bar(num, stationary_evening_distribution, label='Frequency')\n",
    "plt.title('Distribution of W 21 St & 6 Ave in Morning')\n",
    "plt.legend()\n",
    "plt.show()\n",
    "\n"
   ]
  },
  {
   "cell_type": "markdown",
   "id": "97a67121",
   "metadata": {},
   "source": [
    "### Calculate the expectation for stationary distribution"
   ]
  },
  {
   "cell_type": "code",
   "execution_count": 27,
   "id": "c863d9ed",
   "metadata": {},
   "outputs": [
    {
     "name": "stdout",
     "output_type": "stream",
     "text": [
      "W 21 St & 6 Ave Morning's expectation is: 48\n",
      "W 21 St & 6 Ave Evening's expectation is: 7\n"
     ]
    }
   ],
   "source": [
    "expectation_morning = sum(num * probability for num, probability in enumerate(stationary_morning_distribution[:station1_dock + 1]))\n",
    "print(f\"W 21 St & 6 Ave Morning's expectation is: {round(expectation_morning)}\")\n",
    "\n",
    "expectation_evening = sum(num * probability for num, probability in enumerate(stationary_evening_distribution[:station1_dock + 1]))\n",
    "print(f\"W 21 St & 6 Ave Evening's expectation is: {round(expectation_evening)}\")\n",
    "\n",
    "\n"
   ]
  },
  {
   "cell_type": "markdown",
   "id": "568f3aff",
   "metadata": {},
   "source": [
    "### We now will repeat the same process with station 2"
   ]
  },
  {
   "cell_type": "code",
   "execution_count": 28,
   "id": "c69f325f",
   "metadata": {},
   "outputs": [],
   "source": [
    "station2_morning = morning_df[(morning_df['start_station_name'] == station2) | (morning_df['end_station_name'] == station2)]\n",
    "station2_evening = evening_df[(evening_df['start_station_name'] == station2) | (evening_df['end_station_name'] == station2)]"
   ]
  },
  {
   "cell_type": "markdown",
   "id": "7e843dbd",
   "metadata": {},
   "source": [
    "### We set the time block to be 10 minutes, and count the value for different blocks and set the final_count as the number of frequency for differnt number of bicycle rentals"
   ]
  },
  {
   "cell_type": "code",
   "execution_count": 29,
   "id": "6741ff3b",
   "metadata": {},
   "outputs": [],
   "source": [
    "# West St & Chambers St - Morning\n",
    "df_2_morning_depart = station2_morning[station2_morning['start_station_name'] == station2]['start_time_interval'].value_counts()\n",
    "df_2_morning_arrive = station2_morning[station2_morning['end_station_name'] == station2]['end_time_interval'].value_counts()\n",
    "\n",
    "station2_morning_total = pd.concat([df_2_morning_depart, df_2_morning_arrive], axis=1)\n",
    "station2_morning_total.fillna(0, inplace=True)\n",
    "station2_morning_total['final_count'] = station2_morning_total['end_time_interval'] - station2_morning_total['start_time_interval']\n",
    "station2_morning_total['final_count'] = station2_morning_total['final_count'].astype(int)\n",
    "\n",
    "# West St & Chambers St - Evening\n",
    "df_2_evening_depart = station2_evening[station2_evening['start_station_name'] == station2]['start_time_interval'].value_counts()\n",
    "df_2_evening_arrive = station2_evening[station2_evening['end_station_name'] == station2]['end_time_interval'].value_counts()\n",
    "\n",
    "station2_evening_total = pd.concat([df_2_evening_depart, df_2_evening_arrive], axis=1)\n",
    "station2_evening_total.fillna(0, inplace=True)\n",
    "station2_evening_total['final_count'] = station2_evening_total['end_time_interval'] - station2_evening_total['start_time_interval']\n",
    "station2_evening_total['final_count'] = station2_evening_total['final_count'].astype(int)"
   ]
  },
  {
   "cell_type": "code",
   "execution_count": 30,
   "id": "69300c5e",
   "metadata": {},
   "outputs": [
    {
     "data": {
      "text/html": [
       "<div>\n",
       "<style scoped>\n",
       "    .dataframe tbody tr th:only-of-type {\n",
       "        vertical-align: middle;\n",
       "    }\n",
       "\n",
       "    .dataframe tbody tr th {\n",
       "        vertical-align: top;\n",
       "    }\n",
       "\n",
       "    .dataframe thead th {\n",
       "        text-align: right;\n",
       "    }\n",
       "</style>\n",
       "<table border=\"1\" class=\"dataframe\">\n",
       "  <thead>\n",
       "    <tr style=\"text-align: right;\">\n",
       "      <th></th>\n",
       "      <th>start_time_interval</th>\n",
       "      <th>end_time_interval</th>\n",
       "      <th>final_count</th>\n",
       "    </tr>\n",
       "  </thead>\n",
       "  <tbody>\n",
       "    <tr>\n",
       "      <th>2023-07-03 06:00:00</th>\n",
       "      <td>1.0</td>\n",
       "      <td>0.0</td>\n",
       "      <td>-1</td>\n",
       "    </tr>\n",
       "    <tr>\n",
       "      <th>2023-07-03 06:10:00</th>\n",
       "      <td>3.0</td>\n",
       "      <td>1.0</td>\n",
       "      <td>-2</td>\n",
       "    </tr>\n",
       "    <tr>\n",
       "      <th>2023-07-03 06:30:00</th>\n",
       "      <td>0.0</td>\n",
       "      <td>1.0</td>\n",
       "      <td>1</td>\n",
       "    </tr>\n",
       "    <tr>\n",
       "      <th>2023-07-03 06:40:00</th>\n",
       "      <td>0.0</td>\n",
       "      <td>1.0</td>\n",
       "      <td>1</td>\n",
       "    </tr>\n",
       "    <tr>\n",
       "      <th>2023-07-03 06:50:00</th>\n",
       "      <td>1.0</td>\n",
       "      <td>0.0</td>\n",
       "      <td>-1</td>\n",
       "    </tr>\n",
       "    <tr>\n",
       "      <th>...</th>\n",
       "      <td>...</td>\n",
       "      <td>...</td>\n",
       "      <td>...</td>\n",
       "    </tr>\n",
       "    <tr>\n",
       "      <th>2023-07-31 11:30:00</th>\n",
       "      <td>0.0</td>\n",
       "      <td>1.0</td>\n",
       "      <td>1</td>\n",
       "    </tr>\n",
       "    <tr>\n",
       "      <th>2023-07-31 11:40:00</th>\n",
       "      <td>2.0</td>\n",
       "      <td>4.0</td>\n",
       "      <td>2</td>\n",
       "    </tr>\n",
       "    <tr>\n",
       "      <th>2023-07-31 12:00:00</th>\n",
       "      <td>0.0</td>\n",
       "      <td>3.0</td>\n",
       "      <td>3</td>\n",
       "    </tr>\n",
       "    <tr>\n",
       "      <th>2023-07-31 12:10:00</th>\n",
       "      <td>0.0</td>\n",
       "      <td>2.0</td>\n",
       "      <td>2</td>\n",
       "    </tr>\n",
       "    <tr>\n",
       "      <th>2023-07-31 12:20:00</th>\n",
       "      <td>0.0</td>\n",
       "      <td>2.0</td>\n",
       "      <td>2</td>\n",
       "    </tr>\n",
       "  </tbody>\n",
       "</table>\n",
       "<p>741 rows × 3 columns</p>\n",
       "</div>"
      ],
      "text/plain": [
       "                     start_time_interval  end_time_interval  final_count\n",
       "2023-07-03 06:00:00                  1.0                0.0           -1\n",
       "2023-07-03 06:10:00                  3.0                1.0           -2\n",
       "2023-07-03 06:30:00                  0.0                1.0            1\n",
       "2023-07-03 06:40:00                  0.0                1.0            1\n",
       "2023-07-03 06:50:00                  1.0                0.0           -1\n",
       "...                                  ...                ...          ...\n",
       "2023-07-31 11:30:00                  0.0                1.0            1\n",
       "2023-07-31 11:40:00                  2.0                4.0            2\n",
       "2023-07-31 12:00:00                  0.0                3.0            3\n",
       "2023-07-31 12:10:00                  0.0                2.0            2\n",
       "2023-07-31 12:20:00                  0.0                2.0            2\n",
       "\n",
       "[741 rows x 3 columns]"
      ]
     },
     "execution_count": 30,
     "metadata": {},
     "output_type": "execute_result"
    }
   ],
   "source": [
    "station2_morning_total"
   ]
  },
  {
   "cell_type": "code",
   "execution_count": 31,
   "id": "86bb45c1",
   "metadata": {},
   "outputs": [
    {
     "data": {
      "text/html": [
       "<div>\n",
       "<style scoped>\n",
       "    .dataframe tbody tr th:only-of-type {\n",
       "        vertical-align: middle;\n",
       "    }\n",
       "\n",
       "    .dataframe tbody tr th {\n",
       "        vertical-align: top;\n",
       "    }\n",
       "\n",
       "    .dataframe thead th {\n",
       "        text-align: right;\n",
       "    }\n",
       "</style>\n",
       "<table border=\"1\" class=\"dataframe\">\n",
       "  <thead>\n",
       "    <tr style=\"text-align: right;\">\n",
       "      <th></th>\n",
       "      <th>start_time_interval</th>\n",
       "      <th>end_time_interval</th>\n",
       "      <th>final_count</th>\n",
       "    </tr>\n",
       "  </thead>\n",
       "  <tbody>\n",
       "    <tr>\n",
       "      <th>2023-07-03 16:00:00</th>\n",
       "      <td>5.0</td>\n",
       "      <td>0.0</td>\n",
       "      <td>-5</td>\n",
       "    </tr>\n",
       "    <tr>\n",
       "      <th>2023-07-03 16:10:00</th>\n",
       "      <td>6.0</td>\n",
       "      <td>1.0</td>\n",
       "      <td>-5</td>\n",
       "    </tr>\n",
       "    <tr>\n",
       "      <th>2023-07-03 16:20:00</th>\n",
       "      <td>3.0</td>\n",
       "      <td>6.0</td>\n",
       "      <td>3</td>\n",
       "    </tr>\n",
       "    <tr>\n",
       "      <th>2023-07-03 16:30:00</th>\n",
       "      <td>2.0</td>\n",
       "      <td>4.0</td>\n",
       "      <td>2</td>\n",
       "    </tr>\n",
       "    <tr>\n",
       "      <th>2023-07-03 16:40:00</th>\n",
       "      <td>3.0</td>\n",
       "      <td>1.0</td>\n",
       "      <td>-2</td>\n",
       "    </tr>\n",
       "    <tr>\n",
       "      <th>...</th>\n",
       "      <td>...</td>\n",
       "      <td>...</td>\n",
       "      <td>...</td>\n",
       "    </tr>\n",
       "    <tr>\n",
       "      <th>2023-07-31 21:30:00</th>\n",
       "      <td>8.0</td>\n",
       "      <td>3.0</td>\n",
       "      <td>-5</td>\n",
       "    </tr>\n",
       "    <tr>\n",
       "      <th>2023-07-31 21:40:00</th>\n",
       "      <td>4.0</td>\n",
       "      <td>4.0</td>\n",
       "      <td>0</td>\n",
       "    </tr>\n",
       "    <tr>\n",
       "      <th>2023-07-31 21:50:00</th>\n",
       "      <td>3.0</td>\n",
       "      <td>0.0</td>\n",
       "      <td>-3</td>\n",
       "    </tr>\n",
       "    <tr>\n",
       "      <th>2023-07-31 22:00:00</th>\n",
       "      <td>0.0</td>\n",
       "      <td>6.0</td>\n",
       "      <td>6</td>\n",
       "    </tr>\n",
       "    <tr>\n",
       "      <th>2023-07-31 22:40:00</th>\n",
       "      <td>0.0</td>\n",
       "      <td>1.0</td>\n",
       "      <td>1</td>\n",
       "    </tr>\n",
       "  </tbody>\n",
       "</table>\n",
       "<p>773 rows × 3 columns</p>\n",
       "</div>"
      ],
      "text/plain": [
       "                     start_time_interval  end_time_interval  final_count\n",
       "2023-07-03 16:00:00                  5.0                0.0           -5\n",
       "2023-07-03 16:10:00                  6.0                1.0           -5\n",
       "2023-07-03 16:20:00                  3.0                6.0            3\n",
       "2023-07-03 16:30:00                  2.0                4.0            2\n",
       "2023-07-03 16:40:00                  3.0                1.0           -2\n",
       "...                                  ...                ...          ...\n",
       "2023-07-31 21:30:00                  8.0                3.0           -5\n",
       "2023-07-31 21:40:00                  4.0                4.0            0\n",
       "2023-07-31 21:50:00                  3.0                0.0           -3\n",
       "2023-07-31 22:00:00                  0.0                6.0            6\n",
       "2023-07-31 22:40:00                  0.0                1.0            1\n",
       "\n",
       "[773 rows x 3 columns]"
      ]
     },
     "execution_count": 31,
     "metadata": {},
     "output_type": "execute_result"
    }
   ],
   "source": [
    "station2_evening_total"
   ]
  },
  {
   "cell_type": "code",
   "execution_count": 32,
   "id": "9058ffd3",
   "metadata": {},
   "outputs": [],
   "source": [
    "from collections import Counter\n",
    "station2_morning_total = dict(sorted(Counter(station2_morning_total['final_count']).items()))\n",
    "station2_evening_total = dict(sorted(Counter(station2_evening_total['final_count']).items()))"
   ]
  },
  {
   "cell_type": "code",
   "execution_count": 33,
   "id": "5298fd58",
   "metadata": {},
   "outputs": [
    {
     "data": {
      "text/plain": [
       "{-6: 2,\n",
       " -5: 7,\n",
       " -4: 13,\n",
       " -3: 29,\n",
       " -2: 59,\n",
       " -1: 122,\n",
       " 0: 142,\n",
       " 1: 141,\n",
       " 2: 97,\n",
       " 3: 58,\n",
       " 4: 37,\n",
       " 5: 19,\n",
       " 6: 5,\n",
       " 7: 6,\n",
       " 8: 2,\n",
       " 9: 1,\n",
       " 10: 1}"
      ]
     },
     "execution_count": 33,
     "metadata": {},
     "output_type": "execute_result"
    }
   ],
   "source": [
    "station2_morning_total"
   ]
  },
  {
   "cell_type": "code",
   "execution_count": 34,
   "id": "c44ea6cb",
   "metadata": {},
   "outputs": [
    {
     "data": {
      "text/plain": [
       "{-15: 1,\n",
       " -13: 1,\n",
       " -12: 1,\n",
       " -11: 3,\n",
       " -10: 1,\n",
       " -9: 9,\n",
       " -8: 8,\n",
       " -7: 13,\n",
       " -6: 23,\n",
       " -5: 33,\n",
       " -4: 47,\n",
       " -3: 60,\n",
       " -2: 86,\n",
       " -1: 84,\n",
       " 0: 83,\n",
       " 1: 112,\n",
       " 2: 74,\n",
       " 3: 56,\n",
       " 4: 27,\n",
       " 5: 19,\n",
       " 6: 18,\n",
       " 7: 6,\n",
       " 8: 3,\n",
       " 9: 1,\n",
       " 10: 2,\n",
       " 11: 1,\n",
       " 13: 1}"
      ]
     },
     "execution_count": 34,
     "metadata": {},
     "output_type": "execute_result"
    }
   ],
   "source": [
    "station2_evening_total"
   ]
  },
  {
   "cell_type": "markdown",
   "id": "899cecf6",
   "metadata": {},
   "source": [
    "### The Bike Count graph for station2"
   ]
  },
  {
   "cell_type": "code",
   "execution_count": 35,
   "id": "517806b4",
   "metadata": {},
   "outputs": [
    {
     "data": {
      "image/png": "[encoded data removed]",
      "text/plain": [
       "<Figure size 432x288 with 1 Axes>"
      ]
     },
     "metadata": {
      "needs_background": "light"
     },
     "output_type": "display_data"
    }
   ],
   "source": [
    "plt.bar(station2_morning_total.keys(),station2_morning_total.values())\n",
    "plt.title('Bike Counts for West St & Chambers St - Morning')\n",
    "plt.xlabel('Time Intervals')\n",
    "plt.ylabel('Final Count')\n",
    "plt.show()"
   ]
  },
  {
   "cell_type": "code",
   "execution_count": 36,
   "id": "b5134319",
   "metadata": {},
   "outputs": [
    {
     "data": {
      "image/png": "[encoded data removed]",
      "text/plain": [
       "<Figure size 432x288 with 1 Axes>"
      ]
     },
     "metadata": {
      "needs_background": "light"
     },
     "output_type": "display_data"
    }
   ],
   "source": [
    "plt.bar(station2_evening_total.keys(),station2_evening_total.values())\n",
    "plt.title('Bike Counts for West St & Chambers St - Evening')\n",
    "plt.xlabel('Time Intervals')\n",
    "plt.ylabel('Final Count')\n",
    "plt.show()"
   ]
  },
  {
   "cell_type": "markdown",
   "id": "6e271fb5",
   "metadata": {},
   "source": [
    "### We found out that the maximum Capacity for  West St & Chambers St is 101, so we set the dock to 101, and create the transition matrix based on it. "
   ]
  },
  {
   "cell_type": "code",
   "execution_count": 37,
   "id": "9587873c",
   "metadata": {},
   "outputs": [],
   "source": [
    "import numpy as np\n",
    "\n",
    "# Assuming station2_dock is the number of docks at the station\n",
    "# Assuming station2_morning_total and station2_evening_total are dictionaries \n",
    "# with bike changes and their frequencies for morning and evening\n",
    "\n",
    "station2_dock = 101\n",
    "\n",
    "# Create transition matrix for morning\n",
    "morning_changes = list(station2_morning_total.keys())\n",
    "morning_frequency = list(station2_morning_total.values())\n",
    "WestStChambersSt_morning = np.zeros((station2_dock + 1, station2_dock + 1))\n",
    "\n",
    "for i in range(WestStChambersSt_morning.shape[0]):\n",
    "    for j in range(WestStChambersSt_morning.shape[1]):\n",
    "        if (j - i) in morning_changes:\n",
    "            WestStChambersSt_morning[i][j] = station2_morning_total[j - i]\n",
    "    row_sum = sum(WestStChambersSt_morning[i])\n",
    "    if row_sum != 0:\n",
    "        WestStChambersSt_morning[i] /= row_sum\n",
    "\n",
    "# Create transition matrix for evening\n",
    "evening_changes = list(station2_evening_total.keys())\n",
    "evening_frequency = list(station2_evening_total.values())\n",
    "WestStChambersSt_evening = np.zeros((station2_dock + 1, station2_dock + 1))\n",
    "\n",
    "for i in range(WestStChambersSt_evening.shape[0]):\n",
    "    for j in range(WestStChambersSt_evening.shape[1]):\n",
    "        if (j - i) in evening_changes:\n",
    "            WestStChambersSt_evening[i][j] = station2_evening_total[j - i]\n",
    "    row_sum = sum(WestStChambersSt_evening[i])\n",
    "    if row_sum != 0:\n",
    "        WestStChambersSt_evening[i] /= row_sum"
   ]
  },
  {
   "cell_type": "code",
   "execution_count": 38,
   "id": "fd68866c",
   "metadata": {},
   "outputs": [
    {
     "data": {
      "text/plain": [
       "(102, 102)"
      ]
     },
     "execution_count": 38,
     "metadata": {},
     "output_type": "execute_result"
    }
   ],
   "source": [
    "WestStChambersSt_morning.shape\n",
    "WestStChambersSt_evening.shape"
   ]
  },
  {
   "cell_type": "code",
   "execution_count": 39,
   "id": "d7485883",
   "metadata": {},
   "outputs": [
    {
     "data": {
      "text/plain": [
       "True"
      ]
     },
     "execution_count": 39,
     "metadata": {},
     "output_type": "execute_result"
    }
   ],
   "source": [
    "# Verify if the row sums equal to one for each matrix\n",
    "row_sums = np.sum(WestStChambersSt_morning, axis=1)\n",
    "np.allclose(row_sums, 1)\n",
    "\n",
    "row_sums = np.sum(WestStChambersSt_evening, axis=1)\n",
    "np.allclose(row_sums, 1)"
   ]
  },
  {
   "cell_type": "markdown",
   "id": "361d8f1f",
   "metadata": {},
   "source": [
    "### Transpose the transition matrix to find left eigenvectors in order to get the stationary distribution"
   ]
  },
  {
   "cell_type": "code",
   "execution_count": 40,
   "id": "f45e3b51",
   "metadata": {},
   "outputs": [],
   "source": [
    "import numpy as np\n",
    "\n",
    "# Transpose the transition matrix to find left eigenvectors\n",
    "transposed_matrix = np.transpose(WestStChambersSt_morning)\n",
    "\n",
    "# Calculate the eigenvalues and eigenvectors\n",
    "eigenvalues, eigenvectors = np.linalg.eig(transposed_matrix)\n",
    "\n",
    "# Find the index corresponding to the eigenvalue 1\n",
    "index = np.where(np.isclose(eigenvalues, 1))[0][0]\n",
    "\n",
    "# Extract the corresponding eigenvector\n",
    "stationary_morning_distribution = np.real(eigenvectors[:, index])\n",
    "\n",
    "# Normalize the stationary distribution to sum to 1\n",
    "stationary_morning_distribution /= np.sum(stationary_morning_distribution)"
   ]
  },
  {
   "cell_type": "code",
   "execution_count": 41,
   "id": "768a3fd5",
   "metadata": {},
   "outputs": [],
   "source": [
    "import numpy as np\n",
    "\n",
    "# Transpose the transition matrix to find left eigenvectors\n",
    "transposed_matrix = np.transpose(WestStChambersSt_evening)\n",
    "\n",
    "# Calculate the eigenvalues and eigenvectors\n",
    "eigenvalues, eigenvectors = np.linalg.eig(transposed_matrix)\n",
    "\n",
    "# Find the index corresponding to the eigenvalue 1\n",
    "index = np.where(np.isclose(eigenvalues, 1))[0][0]\n",
    "\n",
    "# Extract the corresponding eigenvector\n",
    "stationary_evening_distribution = np.real(eigenvectors[:, index])\n",
    "\n",
    "# Normalize the stationary distribution to sum to 1\n",
    "stationary_evening_distribution /= np.sum(stationary_evening_distribution)\n",
    "\n"
   ]
  },
  {
   "cell_type": "markdown",
   "id": "bd3ca6e7",
   "metadata": {},
   "source": [
    "### Plot the stationary distribution"
   ]
  },
  {
   "cell_type": "code",
   "execution_count": 42,
   "id": "bbd920fb",
   "metadata": {},
   "outputs": [
    {
     "name": "stdout",
     "output_type": "stream",
     "text": [
      "Sum of distribution: 1.0\n"
     ]
    },
    {
     "data": {
      "image/png": "[encoded data removed]",
      "text/plain": [
       "<Figure size 432x288 with 1 Axes>"
      ]
     },
     "metadata": {
      "needs_background": "light"
     },
     "output_type": "display_data"
    }
   ],
   "source": [
    "# # Check for negative values\n",
    "# if np.any(stationary_morning_distribution < 0):\n",
    "#     print(\"Warning: Stationary distribution contains negative values.\")\n",
    "\n",
    "# Normalize to ensure all values sum to 1\n",
    "stationary_morning_distribution /= np.sum(stationary_morning_distribution)\n",
    "\n",
    "# Check the sum of the distribution to confirm it's 1\n",
    "print(\"Sum of distribution:\", np.sum(stationary_morning_distribution))\n",
    "\n",
    "# Plot the distribution\n",
    "num = range(len(stationary_morning_distribution))\n",
    "plt.bar(num, stationary_morning_distribution, label='Frequency')\n",
    "plt.title('Distribution of West St & Chambers St in Morning')\n",
    "plt.legend()\n",
    "plt.show()\n"
   ]
  },
  {
   "cell_type": "code",
   "execution_count": 43,
   "id": "d5e7ba9a",
   "metadata": {},
   "outputs": [
    {
     "name": "stdout",
     "output_type": "stream",
     "text": [
      "Sum of distribution: 1.0\n"
     ]
    },
    {
     "data": {
      "image/png": "[encoded data removed]",
      "text/plain": [
       "<Figure size 432x288 with 1 Axes>"
      ]
     },
     "metadata": {
      "needs_background": "light"
     },
     "output_type": "display_data"
    }
   ],
   "source": [
    "# # Check for negative values\n",
    "# if np.any(stationary_morning_distribution < 0):\n",
    "#     print(\"Warning: Stationary distribution contains negative values.\")\n",
    "\n",
    "# Normalize to ensure all values sum to 1\n",
    "stationary_evening_distribution /= np.sum(stationary_evening_distribution)\n",
    "\n",
    "# Check the sum of the distribution to confirm it's 1\n",
    "print(\"Sum of distribution:\", np.sum(stationary_evening_distribution))\n",
    "\n",
    "# Plot the distribution\n",
    "num = range(len(stationary_evening_distribution))\n",
    "plt.bar(num, stationary_evening_distribution, label='Frequency')\n",
    "plt.title('Distribution of West St & Chambers St in Morning')\n",
    "plt.legend()\n",
    "plt.show()\n",
    "\n"
   ]
  },
  {
   "cell_type": "code",
   "execution_count": 44,
   "id": "b6c3e546",
   "metadata": {},
   "outputs": [
    {
     "name": "stdout",
     "output_type": "stream",
     "text": [
      "West St & Chambers St Morning's expectation is: 97\n",
      "West St & Chambers St Evening's expectation is: 13\n"
     ]
    }
   ],
   "source": [
    "expectation_morning = sum(num * probability for num, probability in enumerate(stationary_morning_distribution[:station2_dock + 1]))\n",
    "print(f\"West St & Chambers St Morning's expectation is: {round(expectation_morning)}\")\n",
    "\n",
    "expectation_evening = sum(num * probability for num, probability in enumerate(stationary_evening_distribution[:station2_dock + 1]))\n",
    "print(f\"West St & Chambers St Evening's expectation is: {round(expectation_evening)}\")\n"
   ]
  },
  {
   "cell_type": "markdown",
   "id": "3f1bcdec",
   "metadata": {},
   "source": [
    "### We now will repeat the same process with station 3"
   ]
  },
  {
   "cell_type": "code",
   "execution_count": 62,
   "id": "90fcc154",
   "metadata": {},
   "outputs": [],
   "source": [
    "station3_morning = morning_df[(morning_df['start_station_name'] == station3) | (morning_df['end_station_name'] == station3)]\n",
    "station3_evening = evening_df[(evening_df['start_station_name'] == station3) | (evening_df['end_station_name'] == station3)]"
   ]
  },
  {
   "cell_type": "markdown",
   "id": "eb08ff2b",
   "metadata": {},
   "source": [
    "### We set the time block to be 10 minutes, and count the value for different blocks and set the final_count as the number of frequency for differnt number of bicycle rentals"
   ]
  },
  {
   "cell_type": "code",
   "execution_count": 63,
   "id": "7d59f978",
   "metadata": {},
   "outputs": [],
   "source": [
    "# 11 Ave & W 41St - Morning\n",
    "df_3_morning_depart = station3_morning[station3_morning['start_station_name'] == station3]['start_time_interval'].value_counts()\n",
    "df_3_morning_arrive = station3_morning[station3_morning['end_station_name'] == station3]['end_time_interval'].value_counts()\n",
    "\n",
    "station3_morning_total = pd.concat([df_3_morning_depart, df_3_morning_arrive], axis=1)\n",
    "station3_morning_total.fillna(0, inplace=True)\n",
    "station3_morning_total['final_count'] = station3_morning_total['end_time_interval'] - station3_morning_total['start_time_interval']\n",
    "station3_morning_total['final_count'] = station3_morning_total['final_count'].astype(int)\n",
    "\n",
    "# 11 Ave & W 41St - Evening\n",
    "df_3_evening_depart = station3_evening[station3_evening['start_station_name'] == station3]['start_time_interval'].value_counts()\n",
    "df_3_evening_arrive = station3_evening[station3_evening['end_station_name'] == station3]['end_time_interval'].value_counts()\n",
    "\n",
    "station3_evening_total = pd.concat([df_3_evening_depart, df_3_evening_arrive], axis=1)\n",
    "station3_evening_total.fillna(0, inplace=True)\n",
    "station3_evening_total['final_count'] = station3_evening_total['end_time_interval'] - station3_evening_total['start_time_interval']\n",
    "station3_evening_total['final_count'] = station3_evening_total['final_count'].astype(int)"
   ]
  },
  {
   "cell_type": "code",
   "execution_count": 64,
   "id": "98e6a438",
   "metadata": {},
   "outputs": [
    {
     "data": {
      "text/html": [
       "<div>\n",
       "<style scoped>\n",
       "    .dataframe tbody tr th:only-of-type {\n",
       "        vertical-align: middle;\n",
       "    }\n",
       "\n",
       "    .dataframe tbody tr th {\n",
       "        vertical-align: top;\n",
       "    }\n",
       "\n",
       "    .dataframe thead th {\n",
       "        text-align: right;\n",
       "    }\n",
       "</style>\n",
       "<table border=\"1\" class=\"dataframe\">\n",
       "  <thead>\n",
       "    <tr style=\"text-align: right;\">\n",
       "      <th></th>\n",
       "      <th>start_time_interval</th>\n",
       "      <th>end_time_interval</th>\n",
       "      <th>final_count</th>\n",
       "    </tr>\n",
       "  </thead>\n",
       "  <tbody>\n",
       "    <tr>\n",
       "      <th>2023-07-03 06:00:00</th>\n",
       "      <td>2.0</td>\n",
       "      <td>2.0</td>\n",
       "      <td>0</td>\n",
       "    </tr>\n",
       "    <tr>\n",
       "      <th>2023-07-03 06:10:00</th>\n",
       "      <td>6.0</td>\n",
       "      <td>2.0</td>\n",
       "      <td>-4</td>\n",
       "    </tr>\n",
       "    <tr>\n",
       "      <th>2023-07-03 06:20:00</th>\n",
       "      <td>2.0</td>\n",
       "      <td>0.0</td>\n",
       "      <td>-2</td>\n",
       "    </tr>\n",
       "    <tr>\n",
       "      <th>2023-07-03 06:40:00</th>\n",
       "      <td>3.0</td>\n",
       "      <td>2.0</td>\n",
       "      <td>-1</td>\n",
       "    </tr>\n",
       "    <tr>\n",
       "      <th>2023-07-03 06:50:00</th>\n",
       "      <td>2.0</td>\n",
       "      <td>0.0</td>\n",
       "      <td>-2</td>\n",
       "    </tr>\n",
       "    <tr>\n",
       "      <th>...</th>\n",
       "      <td>...</td>\n",
       "      <td>...</td>\n",
       "      <td>...</td>\n",
       "    </tr>\n",
       "    <tr>\n",
       "      <th>2023-07-31 11:10:00</th>\n",
       "      <td>1.0</td>\n",
       "      <td>3.0</td>\n",
       "      <td>2</td>\n",
       "    </tr>\n",
       "    <tr>\n",
       "      <th>2023-07-31 11:20:00</th>\n",
       "      <td>2.0</td>\n",
       "      <td>2.0</td>\n",
       "      <td>0</td>\n",
       "    </tr>\n",
       "    <tr>\n",
       "      <th>2023-07-31 11:30:00</th>\n",
       "      <td>2.0</td>\n",
       "      <td>0.0</td>\n",
       "      <td>-2</td>\n",
       "    </tr>\n",
       "    <tr>\n",
       "      <th>2023-07-31 11:40:00</th>\n",
       "      <td>0.0</td>\n",
       "      <td>1.0</td>\n",
       "      <td>1</td>\n",
       "    </tr>\n",
       "    <tr>\n",
       "      <th>2023-07-31 11:50:00</th>\n",
       "      <td>2.0</td>\n",
       "      <td>1.0</td>\n",
       "      <td>-1</td>\n",
       "    </tr>\n",
       "  </tbody>\n",
       "</table>\n",
       "<p>756 rows × 3 columns</p>\n",
       "</div>"
      ],
      "text/plain": [
       "                     start_time_interval  end_time_interval  final_count\n",
       "2023-07-03 06:00:00                  2.0                2.0            0\n",
       "2023-07-03 06:10:00                  6.0                2.0           -4\n",
       "2023-07-03 06:20:00                  2.0                0.0           -2\n",
       "2023-07-03 06:40:00                  3.0                2.0           -1\n",
       "2023-07-03 06:50:00                  2.0                0.0           -2\n",
       "...                                  ...                ...          ...\n",
       "2023-07-31 11:10:00                  1.0                3.0            2\n",
       "2023-07-31 11:20:00                  2.0                2.0            0\n",
       "2023-07-31 11:30:00                  2.0                0.0           -2\n",
       "2023-07-31 11:40:00                  0.0                1.0            1\n",
       "2023-07-31 11:50:00                  2.0                1.0           -1\n",
       "\n",
       "[756 rows x 3 columns]"
      ]
     },
     "execution_count": 64,
     "metadata": {},
     "output_type": "execute_result"
    }
   ],
   "source": [
    "station3_morning_total"
   ]
  },
  {
   "cell_type": "code",
   "execution_count": 65,
   "id": "b6fb2c2a",
   "metadata": {},
   "outputs": [
    {
     "data": {
      "text/html": [
       "<div>\n",
       "<style scoped>\n",
       "    .dataframe tbody tr th:only-of-type {\n",
       "        vertical-align: middle;\n",
       "    }\n",
       "\n",
       "    .dataframe tbody tr th {\n",
       "        vertical-align: top;\n",
       "    }\n",
       "\n",
       "    .dataframe thead th {\n",
       "        text-align: right;\n",
       "    }\n",
       "</style>\n",
       "<table border=\"1\" class=\"dataframe\">\n",
       "  <thead>\n",
       "    <tr style=\"text-align: right;\">\n",
       "      <th></th>\n",
       "      <th>start_time_interval</th>\n",
       "      <th>end_time_interval</th>\n",
       "      <th>final_count</th>\n",
       "    </tr>\n",
       "  </thead>\n",
       "  <tbody>\n",
       "    <tr>\n",
       "      <th>2023-07-03 16:00:00</th>\n",
       "      <td>2.0</td>\n",
       "      <td>0.0</td>\n",
       "      <td>-2</td>\n",
       "    </tr>\n",
       "    <tr>\n",
       "      <th>2023-07-03 16:10:00</th>\n",
       "      <td>3.0</td>\n",
       "      <td>1.0</td>\n",
       "      <td>-2</td>\n",
       "    </tr>\n",
       "    <tr>\n",
       "      <th>2023-07-03 16:20:00</th>\n",
       "      <td>4.0</td>\n",
       "      <td>2.0</td>\n",
       "      <td>-2</td>\n",
       "    </tr>\n",
       "    <tr>\n",
       "      <th>2023-07-03 16:30:00</th>\n",
       "      <td>5.0</td>\n",
       "      <td>3.0</td>\n",
       "      <td>-2</td>\n",
       "    </tr>\n",
       "    <tr>\n",
       "      <th>2023-07-03 16:40:00</th>\n",
       "      <td>1.0</td>\n",
       "      <td>4.0</td>\n",
       "      <td>3</td>\n",
       "    </tr>\n",
       "    <tr>\n",
       "      <th>...</th>\n",
       "      <td>...</td>\n",
       "      <td>...</td>\n",
       "      <td>...</td>\n",
       "    </tr>\n",
       "    <tr>\n",
       "      <th>2023-07-31 21:30:00</th>\n",
       "      <td>4.0</td>\n",
       "      <td>1.0</td>\n",
       "      <td>-3</td>\n",
       "    </tr>\n",
       "    <tr>\n",
       "      <th>2023-07-31 21:40:00</th>\n",
       "      <td>1.0</td>\n",
       "      <td>3.0</td>\n",
       "      <td>2</td>\n",
       "    </tr>\n",
       "    <tr>\n",
       "      <th>2023-07-31 21:50:00</th>\n",
       "      <td>6.0</td>\n",
       "      <td>4.0</td>\n",
       "      <td>-2</td>\n",
       "    </tr>\n",
       "    <tr>\n",
       "      <th>2023-07-31 22:00:00</th>\n",
       "      <td>0.0</td>\n",
       "      <td>2.0</td>\n",
       "      <td>2</td>\n",
       "    </tr>\n",
       "    <tr>\n",
       "      <th>2023-07-31 22:50:00</th>\n",
       "      <td>0.0</td>\n",
       "      <td>1.0</td>\n",
       "      <td>1</td>\n",
       "    </tr>\n",
       "  </tbody>\n",
       "</table>\n",
       "<p>792 rows × 3 columns</p>\n",
       "</div>"
      ],
      "text/plain": [
       "                     start_time_interval  end_time_interval  final_count\n",
       "2023-07-03 16:00:00                  2.0                0.0           -2\n",
       "2023-07-03 16:10:00                  3.0                1.0           -2\n",
       "2023-07-03 16:20:00                  4.0                2.0           -2\n",
       "2023-07-03 16:30:00                  5.0                3.0           -2\n",
       "2023-07-03 16:40:00                  1.0                4.0            3\n",
       "...                                  ...                ...          ...\n",
       "2023-07-31 21:30:00                  4.0                1.0           -3\n",
       "2023-07-31 21:40:00                  1.0                3.0            2\n",
       "2023-07-31 21:50:00                  6.0                4.0           -2\n",
       "2023-07-31 22:00:00                  0.0                2.0            2\n",
       "2023-07-31 22:50:00                  0.0                1.0            1\n",
       "\n",
       "[792 rows x 3 columns]"
      ]
     },
     "execution_count": 65,
     "metadata": {},
     "output_type": "execute_result"
    }
   ],
   "source": [
    "station3_evening_total"
   ]
  },
  {
   "cell_type": "code",
   "execution_count": 66,
   "id": "b65ff27e",
   "metadata": {},
   "outputs": [],
   "source": [
    "station3_morning_total = dict(sorted(Counter(station3_morning_total['final_count']).items()))\n",
    "station3_evening_total = dict(sorted(Counter(station3_evening_total['final_count']).items()))"
   ]
  },
  {
   "cell_type": "code",
   "execution_count": 67,
   "id": "c741fd27",
   "metadata": {},
   "outputs": [
    {
     "data": {
      "text/plain": [
       "{-11: 2,\n",
       " -10: 3,\n",
       " -9: 2,\n",
       " -8: 6,\n",
       " -7: 11,\n",
       " -6: 20,\n",
       " -5: 28,\n",
       " -4: 39,\n",
       " -3: 65,\n",
       " -2: 108,\n",
       " -1: 138,\n",
       " 0: 138,\n",
       " 1: 109,\n",
       " 2: 60,\n",
       " 3: 17,\n",
       " 4: 7,\n",
       " 5: 2,\n",
       " 7: 1}"
      ]
     },
     "execution_count": 67,
     "metadata": {},
     "output_type": "execute_result"
    }
   ],
   "source": [
    "station3_morning_total"
   ]
  },
  {
   "cell_type": "code",
   "execution_count": 68,
   "id": "cfa596ea",
   "metadata": {},
   "outputs": [
    {
     "data": {
      "text/plain": [
       "{-12: 1,\n",
       " -11: 2,\n",
       " -9: 2,\n",
       " -8: 5,\n",
       " -7: 8,\n",
       " -6: 5,\n",
       " -5: 16,\n",
       " -4: 32,\n",
       " -3: 44,\n",
       " -2: 67,\n",
       " -1: 94,\n",
       " 0: 117,\n",
       " 1: 122,\n",
       " 2: 87,\n",
       " 3: 47,\n",
       " 4: 36,\n",
       " 5: 27,\n",
       " 6: 28,\n",
       " 7: 20,\n",
       " 8: 14,\n",
       " 9: 7,\n",
       " 10: 6,\n",
       " 11: 1,\n",
       " 12: 3,\n",
       " 13: 1}"
      ]
     },
     "execution_count": 68,
     "metadata": {},
     "output_type": "execute_result"
    }
   ],
   "source": [
    "station3_evening_total"
   ]
  },
  {
   "cell_type": "markdown",
   "id": "0334d90b",
   "metadata": {},
   "source": [
    "### The Bike Count graph for station3"
   ]
  },
  {
   "cell_type": "code",
   "execution_count": 69,
   "id": "0e4d0574",
   "metadata": {},
   "outputs": [
    {
     "data": {
      "image/png": "[encoded data removed]",
      "text/plain": [
       "<Figure size 432x288 with 1 Axes>"
      ]
     },
     "metadata": {
      "needs_background": "light"
     },
     "output_type": "display_data"
    }
   ],
   "source": [
    "plt.bar(station3_morning_total.keys(),station3_morning_total.values())\n",
    "plt.title('Bike Counts for 11 Ave & W 41St - Morning')\n",
    "plt.xlabel('Time Intervals')\n",
    "plt.ylabel('Final Count')\n",
    "plt.show()"
   ]
  },
  {
   "cell_type": "code",
   "execution_count": 70,
   "id": "7f47c76d",
   "metadata": {},
   "outputs": [
    {
     "data": {
      "image/png": "[encoded data removed]",
      "text/plain": [
       "<Figure size 432x288 with 1 Axes>"
      ]
     },
     "metadata": {
      "needs_background": "light"
     },
     "output_type": "display_data"
    }
   ],
   "source": [
    "plt.bar(station3_evening_total.keys(),station3_evening_total.values())\n",
    "plt.title('Bike Counts for 11 Ave & W 41St - Evening')\n",
    "plt.xlabel('Time Intervals')\n",
    "plt.ylabel('Final Count')\n",
    "plt.show()"
   ]
  },
  {
   "cell_type": "markdown",
   "id": "6918929e",
   "metadata": {},
   "source": [
    "### We found out that the maximum Capacity for  11 Ave & W 41St is 46, so we set the dock to 46, and create the transition matrix based on it. "
   ]
  },
  {
   "cell_type": "code",
   "execution_count": 71,
   "id": "76fe0f61",
   "metadata": {},
   "outputs": [],
   "source": [
    "# Assuming station3_dock is the number of docks at the station\n",
    "# Assuming station3_morning_total and station3_evening_total are dictionaries \n",
    "# with bike changes and their frequencies for morning and evening\n",
    "\n",
    "station3_dock = 46\n",
    "\n",
    "# Create transition matrix for morning\n",
    "morning_changes = list(station3_morning_total.keys())\n",
    "morning_frequency = list(station3_morning_total.values())\n",
    "AveW41St_morning= np.zeros((station3_dock + 1, station3_dock + 1))\n",
    "\n",
    "for i in range(AveW41St_morning.shape[0]):\n",
    "    for j in range(AveW41St_morning.shape[1]):\n",
    "        if (j - i) in morning_changes:\n",
    "            AveW41St_morning[i][j] = station3_morning_total[j - i]\n",
    "    row_sum = sum(AveW41St_morning[i])\n",
    "    if row_sum != 0:\n",
    "        AveW41St_morning[i] /= row_sum\n",
    "\n",
    "# Create transition matrix for evening\n",
    "evening_changes = list(station3_evening_total.keys())\n",
    "evening_frequency = list(station3_evening_total.values())\n",
    "AveW41St_evening = np.zeros((station3_dock + 1, station3_dock + 1))\n",
    "\n",
    "for i in range(AveW41St_evening.shape[0]):\n",
    "    for j in range(AveW41St_evening.shape[1]):\n",
    "        if (j - i) in evening_changes:\n",
    "            AveW41St_evening[i][j] = station3_evening_total[j - i]\n",
    "    row_sum = sum(AveW41St_evening[i])\n",
    "    if row_sum != 0:\n",
    "        AveW41St_evening[i] /= row_sum\n",
    "\n"
   ]
  },
  {
   "cell_type": "code",
   "execution_count": 72,
   "id": "f445d588",
   "metadata": {},
   "outputs": [
    {
     "data": {
      "text/plain": [
       "(47, 47)"
      ]
     },
     "execution_count": 72,
     "metadata": {},
     "output_type": "execute_result"
    }
   ],
   "source": [
    "AveW41St_morning.shape\n",
    "AveW41St_evening.shape"
   ]
  },
  {
   "cell_type": "code",
   "execution_count": 73,
   "id": "0f701854",
   "metadata": {},
   "outputs": [
    {
     "data": {
      "text/plain": [
       "True"
      ]
     },
     "execution_count": 73,
     "metadata": {},
     "output_type": "execute_result"
    }
   ],
   "source": [
    "# Verify if the row sums equal to one for each matrix\n",
    "row_sums = np.sum(AveW41St_morning, axis=1)\n",
    "np.allclose(row_sums, 1)\n",
    "\n",
    "row_sums = np.sum(AveW41St_evening, axis=1)\n",
    "np.allclose(row_sums, 1)"
   ]
  },
  {
   "cell_type": "markdown",
   "id": "094c8509",
   "metadata": {},
   "source": [
    "### Transpose the transition matrix to find left eigenvectors in order to get the stationary distribution"
   ]
  },
  {
   "cell_type": "code",
   "execution_count": 74,
   "id": "7bb99586",
   "metadata": {},
   "outputs": [],
   "source": [
    "# Transpose the transition matrix to find left eigenvectors\n",
    "transposed_matrix = np.transpose(AveW41St_morning)\n",
    "\n",
    "# Calculate the eigenvalues and eigenvectors\n",
    "eigenvalues, eigenvectors = np.linalg.eig(transposed_matrix)\n",
    "\n",
    "# Find the index corresponding to the eigenvalue 1\n",
    "index = np.where(np.isclose(eigenvalues, 1))[0][0]\n",
    "\n",
    "# Extract the corresponding eigenvector\n",
    "stationary_morning_distribution = np.real(eigenvectors[:, index])\n",
    "\n",
    "# Normalize the stationary distribution to sum to 1\n",
    "stationary_morning_distribution /= np.sum(stationary_morning_distribution)\n"
   ]
  },
  {
   "cell_type": "code",
   "execution_count": 75,
   "id": "d83832ba",
   "metadata": {},
   "outputs": [],
   "source": [
    "\n",
    "# Transpose the transition matrix to find left eigenvectors\n",
    "transposed_matrix = np.transpose(AveW41St_evening)\n",
    "\n",
    "# Calculate the eigenvalues and eigenvectors\n",
    "eigenvalues, eigenvectors = np.linalg.eig(transposed_matrix)\n",
    "\n",
    "# Find the index corresponding to the eigenvalue 1\n",
    "index = np.where(np.isclose(eigenvalues, 1))[0][0]\n",
    "\n",
    "# Extract the corresponding eigenvector\n",
    "stationary_evening_distribution = np.real(eigenvectors[:, index])\n",
    "\n",
    "# Normalize the stationary distribution to sum to 1\n",
    "stationary_evening_distribution /= np.sum(stationary_evening_distribution)\n",
    "\n"
   ]
  },
  {
   "cell_type": "markdown",
   "id": "88c1291e",
   "metadata": {},
   "source": [
    "### Plot the stationary distribution"
   ]
  },
  {
   "cell_type": "code",
   "execution_count": 76,
   "id": "de192fe6",
   "metadata": {},
   "outputs": [
    {
     "name": "stdout",
     "output_type": "stream",
     "text": [
      "Sum of distribution: 1.0\n"
     ]
    },
    {
     "data": {
      "image/png": "[encoded data removed]",
      "text/plain": [
       "<Figure size 432x288 with 1 Axes>"
      ]
     },
     "metadata": {
      "needs_background": "light"
     },
     "output_type": "display_data"
    }
   ],
   "source": [
    "# # Check for negative values\n",
    "# if np.any(stationary_morning_distribution < 0):\n",
    "#     print(\"Warning: Stationary distribution contains negative values.\")\n",
    "\n",
    "# Normalize to ensure all values sum to 1\n",
    "stationary_morning_distribution /= np.sum(stationary_morning_distribution)\n",
    "\n",
    "# Check the sum of the distribution to confirm it's 1\n",
    "print(\"Sum of distribution:\", np.sum(stationary_morning_distribution))\n",
    "\n",
    "# Plot the distribution\n",
    "num = range(len(stationary_morning_distribution))\n",
    "plt.bar(num, stationary_morning_distribution, label='Frequency')\n",
    "plt.title('Distribution of 11 Ave & W 41St in Morning')\n",
    "plt.legend()\n",
    "plt.show()"
   ]
  },
  {
   "cell_type": "code",
   "execution_count": 77,
   "id": "d06431b1",
   "metadata": {},
   "outputs": [
    {
     "name": "stdout",
     "output_type": "stream",
     "text": [
      "Sum of distribution: 1.0\n"
     ]
    },
    {
     "data": {
      "image/png": "[encoded data removed]",
      "text/plain": [
       "<Figure size 432x288 with 1 Axes>"
      ]
     },
     "metadata": {
      "needs_background": "light"
     },
     "output_type": "display_data"
    }
   ],
   "source": [
    "# # Check for negative values\n",
    "# if np.any(stationary_morning_distribution < 0):\n",
    "#     print(\"Warning: Stationary distribution contains negative values.\")\n",
    "\n",
    "# Normalize to ensure all values sum to 1\n",
    "stationary_evening_distribution /= np.sum(stationary_evening_distribution)\n",
    "\n",
    "# Check the sum of the distribution to confirm it's 1\n",
    "print(\"Sum of distribution:\", np.sum(stationary_evening_distribution))\n",
    "\n",
    "# Plot the distribution\n",
    "num = range(len(stationary_evening_distribution))\n",
    "plt.bar(num, stationary_evening_distribution, label='Frequency')\n",
    "plt.title('Distribution of 11 Ave & W 41St in Morning')\n",
    "plt.legend()\n",
    "plt.show()\n"
   ]
  },
  {
   "cell_type": "code",
   "execution_count": 78,
   "id": "416c413f",
   "metadata": {},
   "outputs": [
    {
     "name": "stdout",
     "output_type": "stream",
     "text": [
      "11 Ave & W 41St Morning's expectation is: 3\n",
      "11 Ave & W 41St Evening's expectation is: 37\n"
     ]
    }
   ],
   "source": [
    "expectation_morning = sum(num * probability for num, probability in enumerate(stationary_morning_distribution[:station3_dock + 1]))\n",
    "print(f\"11 Ave & W 41St Morning's expectation is: {round(expectation_morning)}\")\n",
    "\n",
    "expectation_evening = sum(num * probability for num, probability in enumerate(stationary_evening_distribution[:station3_dock + 1]))\n",
    "print(f\"11 Ave & W 41St Evening's expectation is: {round(expectation_evening)}\")\n",
    "\n"
   ]
  },
  {
   "cell_type": "markdown",
   "id": "90e73f72",
   "metadata": {},
   "source": [
    "Based on the results, the project shows that there are 48 bikes available at the end of the morning for the ”W 21 St & 6 Ave” station, and 7 bikes available at the end of the evening in the long term. One possible reason for such significant difference during the weekdays could be that this station is in a commerical area in New York city and that the flow differs a lot since people might ride to the station in the morning and ride back from station to home at night. This finding possibly indicates Citibikes to increase the number of available bikes at this station during the night in case it fails to satisfy the demand."
   ]
  },
  {
   "cell_type": "markdown",
   "id": "26db6800",
   "metadata": {},
   "source": [
    "For \"West st&Chamber st\", it is a similar case to \"W 21 st&6 Ave\" as there is a significant difference between the expected number of bikes at the station at the end of the morning and evening. It also yields similar suggestion to Citibikes that there might exists the need to increase the number of bikes at this station during the night."
   ]
  },
  {
   "cell_type": "markdown",
   "id": "579a139e",
   "metadata": {},
   "source": [
    "The statistics for \"11 Ave&W 41 st\" is the opposite to the preivous two stations as there is 3 available bikes at the end of the morning and 37 at the end of the evening. Such difference possibly infers that this station, instead of being a commerical area, is a residential area and people ride out to work from this station in the morning and ride home in the evening. This would then informs Citibikes to increase the number of bikes at this station in the morning in case people don't have enough bikes to ride to work. "
   ]
  }
 ],
 "metadata": {
  "kernelspec": {
   "display_name": "Python 3 (ipykernel)",
   "language": "python",
   "name": "python3"
  },
  "language_info": {
   "codemirror_mode": {
    "name": "ipython",
    "version": 3
   },
   "file_extension": ".py",
   "mimetype": "text/x-python",
   "name": "python",
   "nbconvert_exporter": "python",
   "pygments_lexer": "ipython3",
   "version": "3.9.7"
  }
 },
 "nbformat": 4,
 "nbformat_minor": 5
}
